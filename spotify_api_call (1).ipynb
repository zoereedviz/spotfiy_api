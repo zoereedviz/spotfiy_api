{
 "cells": [
  {
   "cell_type": "code",
   "execution_count": 1,
   "id": "d9dac9c5-25c7-4128-8bc9-7df754abd21c",
   "metadata": {},
   "outputs": [
    {
     "name": "stdout",
     "output_type": "stream",
     "text": [
      "git version 2.34.1\n"
     ]
    }
   ],
   "source": [
    "# Check whether I have git installed in this environment.\n",
    "!git --version"
   ]
  },
  {
   "cell_type": "code",
   "execution_count": 2,
   "id": "08a91a57-2dc5-435e-885a-29daf23470d8",
   "metadata": {},
   "outputs": [],
   "source": [
    "# Connect my GitHub account\n",
    "!git config --global user.name \"zoereedviz\"\n",
    "!git config --global user.email \"zoereed020@gmail.com\"\n"
   ]
  },
  {
   "cell_type": "code",
   "execution_count": 7,
   "id": "a0ebaf19-02a3-4969-99c1-45dcee2e21b0",
   "metadata": {},
   "outputs": [],
   "source": [
    "# Initialise git in this Notebook folder. We will name the branch 'main'.\n",
    "!git init\n",
    "!git branch -m main"
   ]
  },
  {
   "cell_type": "code",
   "execution_count": 9,
   "id": "d533ebc8-5937-4174-bdbe-81485f9ba54c",
   "metadata": {},
   "outputs": [],
   "source": [
    "# I created a repo on GitHub and am, connecting it to this notebook.\n",
    "!git remote add origin https://github.com/zoereedviz/spotfiy_api.git"
   ]
  },
  {
   "cell_type": "code",
   "execution_count": 10,
   "id": "c5db909d-e53c-4c6d-8cc6-1cd43a4be5bf",
   "metadata": {},
   "outputs": [
    {
     "name": "stdout",
     "output_type": "stream",
     "text": [
      "origin\thttps://github.com/zoereedviz/spotfiy_api.git (fetch)\n",
      "origin\thttps://github.com/zoereedviz/spotfiy_api.git (push)\n"
     ]
    }
   ],
   "source": [
    "# Check ing to see if I connected successfully.\n",
    "!git remote -v"
   ]
  },
  {
   "cell_type": "code",
   "execution_count": 12,
   "id": "f4b176ef-9973-4ae8-a0a1-309bec608a86",
   "metadata": {},
   "outputs": [
    {
     "name": "stdout",
     "output_type": "stream",
     "text": [
      "[main (root-commit) fe44bec] First commit\n",
      " 1 file changed, 111 insertions(+)\n",
      " create mode 100644 spotify_api_call.ipynb\n"
     ]
    }
   ],
   "source": [
    "# Add my notebook to the repo.\n",
    "!git add spotify_api_call.ipynb\n",
    "!git commit -m \"First commit\"\n"
   ]
  },
  {
   "cell_type": "code",
   "execution_count": 18,
   "id": "fe891666-f53e-4138-bfa7-a52d4235c37a",
   "metadata": {
    "scrolled": true
   },
   "outputs": [
    {
     "name": "stdout",
     "output_type": "stream",
     "text": [
      "{\"access_token\":\"BQB_MU61SyJQ4ssN1x4Jy93Ox2a0OR18dV8lebBMLN9c1fCV53y_O8WMumYEHovZOXE1CVPIJ4JOJ2XAtDDXYLN_T2OC8jrZ24igQRqe1p_z5TCCuqzo9oSW25vh_GVeQvRxlysefQ8\",\"token_type\":\"Bearer\",\"expires_in\":3600}"
     ]
    }
   ],
   "source": [
    "# Now I need to request an access token, which will be valid for 1 hour. The piece of code used to do this below can be found in the Spotify documentation.\n",
    "!curl -X POST \"https://accounts.spotify.com/api/token\" \\\n",
    "     -H \"Content-Type: application/x-www-form-urlencoded\" \\\n",
    "     -d \"grant_type=client_credentials&client_id=cf57b3d57fce410090a317ba93928ca8&client_secret=36790883650d40518807e761ac5a54af\"\n",
    "\n",
    "# The result of this is json containing access_token, token_type and expires_in."
   ]
  },
  {
   "cell_type": "code",
   "execution_count": 18,
   "id": "6b0f9e10-1b1c-49d9-81e3-b89a0dbe8d58",
   "metadata": {},
   "outputs": [
    {
     "name": "stdout",
     "output_type": "stream",
     "text": [
      "[main 3d68529] Configure API call\n",
      " 1 file changed, 78 insertions(+), 3 deletions(-)\n"
     ]
    }
   ],
   "source": [
    "!git add spotify_api_call.ipynb\n",
    "!git commit -m \"Configure API call\""
   ]
  },
  {
   "cell_type": "code",
   "execution_count": 19,
   "id": "c2d68d38-3180-41e2-80f4-0be7dc8fbe06",
   "metadata": {},
   "outputs": [
    {
     "name": "stdout",
     "output_type": "stream",
     "text": [
      "<Response [200]>\n",
      "{'access_token': 'BQDz7W-R0RBlKtBF7z98REV79fWaJGxFNONeqIHlOq3GKpKQBZkf4z2rEinwB6KteA2uNpN3MpD8f2VnQzHwSWCTr4qC88DxXXDwwi3Uf85fCdL5IYcl1pbML2xB0FD9Ba2zimQtuRE', 'token_type': 'Bearer', 'expires_in': 3600}\n",
      "BQDz7W-R0RBlKtBF7z98REV79fWaJGxFNONeqIHlOq3GKpKQBZkf4z2rEinwB6KteA2uNpN3MpD8f2VnQzHwSWCTr4qC88DxXXDwwi3Uf85fCdL5IYcl1pbML2xB0FD9Ba2zimQtuRE\n",
      "<Response [200]>\n",
      "{'external_urls': {'spotify': 'https://open.spotify.com/artist/00x1fYSGhdqScXBRpSj3DW'}, 'followers': {'href': None, 'total': 925979}, 'genres': ['pop soul'], 'href': 'https://api.spotify.com/v1/artists/00x1fYSGhdqScXBRpSj3DW', 'id': '00x1fYSGhdqScXBRpSj3DW', 'images': [{'url': 'https://i.scdn.co/image/ab6761610000e5eb6e938c6cd78d705571ba9e7e', 'height': 640, 'width': 640}, {'url': 'https://i.scdn.co/image/ab676161000051746e938c6cd78d705571ba9e7e', 'height': 320, 'width': 320}, {'url': 'https://i.scdn.co/image/ab6761610000f1786e938c6cd78d705571ba9e7e', 'height': 160, 'width': 160}], 'name': 'Olivia Dean', 'popularity': 84, 'type': 'artist', 'uri': 'spotify:artist:00x1fYSGhdqScXBRpSj3DW'}\n",
      "925979\n",
      "https://i.scdn.co/image/ab6761610000e5eb6e938c6cd78d705571ba9e7e\n",
      "Olivia Dean\n",
      "84\n",
      "Olivia Dean has 925979 followers on Spotify, with an artist popularity of 84 - their photo can be viewed via https://i.scdn.co/image/ab6761610000e5eb6e938c6cd78d705571ba9e7e\n"
     ]
    }
   ],
   "source": [
    "# We are going to query the Get Artist endpoint from the Spotify Web API. \n",
    "# First get your Client ID and Client Secret following instructions in the Spotify documentation. Also find the Spotify ID of the artist you want to find information on.\n",
    "\n",
    "client_id = \"cf57b3d57fce410090a317ba93928ca8\"\n",
    "\n",
    "client_secret = \"36790883650d40518807e761ac5a54af\"\n",
    "\n",
    "#artist_id = \"3gN8Ihw22Vt9mnK97gbwMQ?si=7PLM0wLDQO2waNyJg4I0Sg\"\n",
    "artist_id = \"00x1fYSGhdqScXBRpSj3DW?si=XdlbXLqKQAmY736noIjYQw\"\n",
    "\n",
    "# Next we need to generate an access token, which is like authorisation for us to query the API (it will last an hour, after which a new one would need to be generated). Getting this access token requires querying a different endpoint.\n",
    "\n",
    "# Import the Python requests library:\n",
    "import requests\n",
    "\n",
    "# Define the information we need to make the access token request. We are using the client_id and client_secret variables in our request.\n",
    "url = \"https://accounts.spotify.com/api/token\"\n",
    "headers = {\"Content-Type\": \"application/x-www-form-urlencoded\"}\n",
    "data = {\n",
    "    \"grant_type\": \"client_credentials\",\n",
    "    \"client_id\": client_id,\n",
    "    \"client_secret\": client_secret\n",
    "}\n",
    "\n",
    "\n",
    "# Make a post request to the endpoint defined above. Save it in a variable called token_response_request. token_response_request is a status code telling us whether the API call was succesful or not - 200 indicates the call was successful.\n",
    "\n",
    "token_request_response = requests.post(url, headers=headers, data=data)\n",
    "print(token_request_response) \n",
    "\n",
    "# If we want to return data from the API call, we use token_request_response.json().\n",
    "\n",
    "print(token_request_response.json())\n",
    "\n",
    "# For simplicaity, and to make the items in the json easier to reference, let's save this as a variable\n",
    "\n",
    "token_json = token_request_response.json()\n",
    "\n",
    "# Now we want to exrtact the access token from the json, and save it as access_token:\n",
    "\n",
    "access_token = token_json[\"access_token\"]\n",
    "\n",
    "print(access_token)\n",
    "\n",
    "# Now we have our access token! So we have everything we need now to call Get Artist endpoint.\n",
    "# I want to return the artist's name, followers, popularity and a link to their profile image.\n",
    "\n",
    "# Import the requests library \n",
    "import requests \n",
    "# Set the url variable. We use an f-string here to allow us to embed the artist_id varibale directly in a string.\n",
    "url_artist_api = f\"https://api.spotify.com/v1/artists/{artist_id}\"\n",
    "\n",
    "# We also need to set a header - public APIs don't require a header but APIs that require authentication do - a header is like packaged up authentication.\n",
    "headers_artist_api = {\n",
    "    \"Authorization\": f\"Bearer {access_token}\"\n",
    "}\n",
    "\n",
    "\n",
    "# Set a response in a variable\n",
    "response = requests.get(url=url_artist_api, headers=headers_artist_api)\n",
    "\n",
    "print(response) # indicates whetehr the API call was successful\n",
    "print(response.json()) # prints whole json response\n",
    "\n",
    "# Let's pick out the bits of information we want. First we will put response.json() into a variable so its simpler to reference:\n",
    "\n",
    "data = response.json()\n",
    "\n",
    "print(data[\"followers\"][\"total\"]) # prints total followers\n",
    "\n",
    "print(data[\"images\"][0][\"url\"])  # prints the url of the artist's image\n",
    "\n",
    "print(data[\"name\"]) # prints the artist's name\n",
    "\n",
    "print(data[\"popularity\"]) # prints the artist's popularity\n",
    "\n",
    "\n",
    "# Putting this together into a sentance:\n",
    "\n",
    "print(data[\"name\"], \"has\", data[\"followers\"][\"total\"], \"followers on Spotify, with an artist popularity of\", data[\"popularity\"], \"- their photo can be viewed via\", data[\"images\"][0][\"url\"])\n",
    "\n",
    "\n"
   ]
  },
  {
   "cell_type": "code",
   "execution_count": null,
   "id": "e2f12a37-c71e-4e56-836f-774e97f147c1",
   "metadata": {},
   "outputs": [],
   "source": []
  },
  {
   "cell_type": "code",
   "execution_count": null,
   "id": "2e3abc56-3214-4ff8-88a7-578f723f7c89",
   "metadata": {},
   "outputs": [],
   "source": []
  }
 ],
 "metadata": {
  "kernelspec": {
   "display_name": "Python 3.10",
   "language": "python",
   "name": "python3.10"
  },
  "language_info": {
   "codemirror_mode": {
    "name": "ipython",
    "version": 3
   },
   "file_extension": ".py",
   "mimetype": "text/x-python",
   "name": "python",
   "nbconvert_exporter": "python",
   "pygments_lexer": "ipython3",
   "version": "3.10.12"
  }
 },
 "nbformat": 4,
 "nbformat_minor": 5
}
